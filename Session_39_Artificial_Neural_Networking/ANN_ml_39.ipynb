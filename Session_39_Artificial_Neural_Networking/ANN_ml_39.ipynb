{
  "nbformat": 4,
  "nbformat_minor": 0,
  "metadata": {
    "colab": {
      "name": "ANN_ml_39.ipynb",
      "version": "0.3.2",
      "provenance": [],
      "include_colab_link": true
    },
    "kernelspec": {
      "name": "python3",
      "display_name": "Python 3"
    }
  },
  "cells": [
    {
      "cell_type": "markdown",
      "metadata": {
        "id": "view-in-github",
        "colab_type": "text"
      },
      "source": [
        "<a href=\"https://colab.research.google.com/github/VigneshwaraChinnadurai/ML-Learning/blob/master/Session_39_Artificial_Neural_Networking/ANN_ml_39.ipynb\" target=\"_parent\"><img src=\"https://colab.research.google.com/assets/colab-badge.svg\" alt=\"Open In Colab\"/></a>"
      ]
    },
    {
      "cell_type": "code",
      "metadata": {
        "id": "MlSwkB7DEW1r",
        "colab_type": "code",
        "colab": {
          "base_uri": "https://localhost:8080/",
          "height": 151
        },
        "outputId": "f16c7e50-c653-490d-d26d-578dc1a6a44c"
      },
      "source": [
        "#STEP-1: Install Import Libraries\n",
        "!pip install -U -q PyDrive\n",
        "from pydrive.auth import GoogleAuth\n",
        "from pydrive.drive import GoogleDrive\n",
        "from google.colab import auth\n",
        "from oauth2client.client import GoogleCredentials\n",
        "\n",
        "#STEP-2: Autheticate E-Mail ID\n",
        "\n",
        "auth.authenticate_user()\n",
        "gauth = GoogleAuth()\n",
        "gauth.credentials = GoogleCredentials.get_application_default()\n",
        "drive = GoogleDrive(gauth)\n",
        "\n",
        "#STEP-3: Get File from Drive using file-ID\n",
        "\n",
        "#2.1 Get the file\n",
        "downloaded = drive.CreateFile({'id':'1eY1vZDPP1kvnWS9DUzRKey_DQD_yoqS-'})\n",
        "# replace the id with id of file you want to access\n",
        "downloaded.GetContentFile('Churn_Modelling.csv') \n",
        "\n",
        "#STEP-4: Read File\n",
        "\n",
        "#3.1 Read file as panda dataframe\n",
        "import pandas as pd\n",
        "data = pd.read_csv('Churn_Modelling.csv') \n",
        "print(data.head())"
      ],
      "execution_count": 2,
      "outputs": [
        {
          "output_type": "stream",
          "text": [
            "   RowNumber  CustomerId   Surname  ...  IsActiveMember EstimatedSalary Exited\n",
            "0          1    15634602  Hargrave  ...               1       101348.88      1\n",
            "1          2    15647311      Hill  ...               1       112542.58      0\n",
            "2          3    15619304      Onio  ...               0       113931.57      1\n",
            "3          4    15701354      Boni  ...               0        93826.63      0\n",
            "4          5    15737888  Mitchell  ...               1        79084.10      0\n",
            "\n",
            "[5 rows x 14 columns]\n"
          ],
          "name": "stdout"
        }
      ]
    },
    {
      "cell_type": "code",
      "metadata": {
        "id": "xbf6X8cXEpNy",
        "colab_type": "code",
        "colab": {}
      },
      "source": [
        "import numpy as np\n",
        "import matplotlib.pyplot as plt\n",
        "import pandas as pd\n",
        "\n",
        "# Importing the dataset\n",
        "dataset = pd.read_csv('Churn_Modelling.csv')\n",
        "X = dataset.iloc[:, 3:13].values\n",
        "y = dataset.iloc[:, 13].values"
      ],
      "execution_count": 0,
      "outputs": []
    },
    {
      "cell_type": "code",
      "metadata": {
        "id": "DGobo3_FFFhY",
        "colab_type": "code",
        "colab": {
          "base_uri": "https://localhost:8080/",
          "height": 138
        },
        "outputId": "c9919312-3450-4aab-fa81-6c2e91adaaae"
      },
      "source": [
        "# Encoding categorical data\n",
        "from sklearn.preprocessing import LabelEncoder, OneHotEncoder\n",
        "labelencoder_X_1 = LabelEncoder()\n",
        "X[:, 1] = labelencoder_X_1.fit_transform(X[:, 1])\n",
        "labelencoder_X_2 = LabelEncoder()\n",
        "X[:, 2] = labelencoder_X_2.fit_transform(X[:, 2])\n",
        "onehotencoder = OneHotEncoder(categorical_features = [1])\n",
        "X = onehotencoder.fit_transform(X).toarray()\n",
        "X = X[:, 1:]"
      ],
      "execution_count": 4,
      "outputs": [
        {
          "output_type": "stream",
          "text": [
            "/usr/local/lib/python3.6/dist-packages/sklearn/preprocessing/_encoders.py:415: FutureWarning: The handling of integer data will change in version 0.22. Currently, the categories are determined based on the range [0, max(values)], while in the future they will be determined based on the unique values.\n",
            "If you want the future behaviour and silence this warning, you can specify \"categories='auto'\".\n",
            "In case you used a LabelEncoder before this OneHotEncoder to convert the categories to integers, then you can now use the OneHotEncoder directly.\n",
            "  warnings.warn(msg, FutureWarning)\n",
            "/usr/local/lib/python3.6/dist-packages/sklearn/preprocessing/_encoders.py:451: DeprecationWarning: The 'categorical_features' keyword is deprecated in version 0.20 and will be removed in 0.22. You can use the ColumnTransformer instead.\n",
            "  \"use the ColumnTransformer instead.\", DeprecationWarning)\n"
          ],
          "name": "stderr"
        }
      ]
    },
    {
      "cell_type": "code",
      "metadata": {
        "id": "u95Tj8smFHb3",
        "colab_type": "code",
        "colab": {}
      },
      "source": [
        "# Splitting the dataset into the Training set and Test set\n",
        "from sklearn.model_selection import train_test_split\n",
        "X_train, X_test, y_train, y_test = train_test_split(X, y, test_size = 0.2, random_state = 0)\n"
      ],
      "execution_count": 0,
      "outputs": []
    },
    {
      "cell_type": "code",
      "metadata": {
        "id": "nTeS3zEtFJrH",
        "colab_type": "code",
        "colab": {}
      },
      "source": [
        "# Feature Scaling\n",
        "from sklearn.preprocessing import StandardScaler\n",
        "sc = StandardScaler()\n",
        "X_train = sc.fit_transform(X_train)\n",
        "X_test = sc.transform(X_test)"
      ],
      "execution_count": 0,
      "outputs": []
    },
    {
      "cell_type": "code",
      "metadata": {
        "id": "o2IbR1ZJFQog",
        "colab_type": "code",
        "colab": {
          "base_uri": "https://localhost:8080/",
          "height": 34
        },
        "outputId": "2ea6a87a-fc8a-461d-bbcb-b872a8ec5531"
      },
      "source": [
        "# Part 2 - Now let's make the ANN!\n",
        "\n",
        "# Importing the Keras libraries and packages\n",
        "import keras\n",
        "from keras.models import Sequential\n",
        "# To initialize Neural Network.\n",
        "from keras.layers import Dense\n",
        "# To create layers in ANN."
      ],
      "execution_count": 7,
      "outputs": [
        {
          "output_type": "stream",
          "text": [
            "Using TensorFlow backend.\n"
          ],
          "name": "stderr"
        }
      ]
    },
    {
      "cell_type": "code",
      "metadata": {
        "id": "ga55YxsSFSwQ",
        "colab_type": "code",
        "colab": {
          "base_uri": "https://localhost:8080/",
          "height": 373
        },
        "outputId": "a280337b-2bdd-4572-86fd-e9a132dc8748"
      },
      "source": [
        "# Initialising the ANN\n",
        "classifier = Sequential()\n",
        "\n",
        "# Adding the input layer and the first hidden layer\n",
        "classifier.add(Dense(output_dim = 6, init = 'uniform', activation = 'relu', input_dim = 11))\n",
        "# Outupt_dim=no of columns in x/2, \n",
        "\n",
        "# Adding the second hidden layer\n",
        "classifier.add(Dense(output_dim = 6, init = 'uniform', activation = 'relu'))\n",
        "\n",
        "# Adding the output layer\n",
        "classifier.add(Dense(output_dim = 1, init = 'uniform', activation = 'sigmoid'))\n",
        "\n",
        "# Compiling the ANN\n",
        "classifier.compile(optimizer = 'adam', loss = 'binary_crossentropy', metrics = ['accuracy'])\n",
        "# Optimizer=adam is a type of strochastic gradient algorithm\n",
        "# Loss is Loss function is binary_crossentropy as the o/p is binary"
      ],
      "execution_count": 8,
      "outputs": [
        {
          "output_type": "stream",
          "text": [
            "WARNING: Logging before flag parsing goes to stderr.\n",
            "W0728 05:37:23.470208 140170070153088 deprecation_wrapper.py:119] From /usr/local/lib/python3.6/dist-packages/keras/backend/tensorflow_backend.py:74: The name tf.get_default_graph is deprecated. Please use tf.compat.v1.get_default_graph instead.\n",
            "\n",
            "/usr/local/lib/python3.6/dist-packages/ipykernel_launcher.py:4: UserWarning: Update your `Dense` call to the Keras 2 API: `Dense(activation=\"relu\", input_dim=11, units=6, kernel_initializer=\"uniform\")`\n",
            "  after removing the cwd from sys.path.\n",
            "W0728 05:37:23.537121 140170070153088 deprecation_wrapper.py:119] From /usr/local/lib/python3.6/dist-packages/keras/backend/tensorflow_backend.py:517: The name tf.placeholder is deprecated. Please use tf.compat.v1.placeholder instead.\n",
            "\n",
            "W0728 05:37:23.547795 140170070153088 deprecation_wrapper.py:119] From /usr/local/lib/python3.6/dist-packages/keras/backend/tensorflow_backend.py:4138: The name tf.random_uniform is deprecated. Please use tf.random.uniform instead.\n",
            "\n",
            "/usr/local/lib/python3.6/dist-packages/ipykernel_launcher.py:8: UserWarning: Update your `Dense` call to the Keras 2 API: `Dense(activation=\"relu\", units=6, kernel_initializer=\"uniform\")`\n",
            "  \n",
            "/usr/local/lib/python3.6/dist-packages/ipykernel_launcher.py:11: UserWarning: Update your `Dense` call to the Keras 2 API: `Dense(activation=\"sigmoid\", units=1, kernel_initializer=\"uniform\")`\n",
            "  # This is added back by InteractiveShellApp.init_path()\n",
            "W0728 05:37:23.603857 140170070153088 deprecation_wrapper.py:119] From /usr/local/lib/python3.6/dist-packages/keras/optimizers.py:790: The name tf.train.Optimizer is deprecated. Please use tf.compat.v1.train.Optimizer instead.\n",
            "\n",
            "W0728 05:37:23.628443 140170070153088 deprecation_wrapper.py:119] From /usr/local/lib/python3.6/dist-packages/keras/backend/tensorflow_backend.py:3376: The name tf.log is deprecated. Please use tf.math.log instead.\n",
            "\n",
            "W0728 05:37:23.635387 140170070153088 deprecation.py:323] From /usr/local/lib/python3.6/dist-packages/tensorflow/python/ops/nn_impl.py:180: add_dispatch_support.<locals>.wrapper (from tensorflow.python.ops.array_ops) is deprecated and will be removed in a future version.\n",
            "Instructions for updating:\n",
            "Use tf.where in 2.0, which has the same broadcast rule as np.where\n"
          ],
          "name": "stderr"
        }
      ]
    },
    {
      "cell_type": "code",
      "metadata": {
        "id": "5ZzDRF-xFWAr",
        "colab_type": "code",
        "colab": {
          "base_uri": "https://localhost:8080/",
          "height": 1000
        },
        "outputId": "238d906f-d91f-42f5-fea7-d50065fba652"
      },
      "source": [
        "# Fitting the ANN to the Training set\n",
        "classifier.fit(X_train, y_train, batch_size = 10, nb_epoch = 100)\n",
        "# Batch_size is the no at which the we want to update the weights.\n",
        "# Epoch is no of times repeating the entire process again and again to get exact prediction."
      ],
      "execution_count": 9,
      "outputs": [
        {
          "output_type": "stream",
          "text": [
            "/usr/local/lib/python3.6/dist-packages/ipykernel_launcher.py:1: UserWarning: The `nb_epoch` argument in `fit` has been renamed `epochs`.\n",
            "  \"\"\"Entry point for launching an IPython kernel.\n",
            "W0728 05:37:35.334941 140170070153088 deprecation_wrapper.py:119] From /usr/local/lib/python3.6/dist-packages/keras/backend/tensorflow_backend.py:986: The name tf.assign_add is deprecated. Please use tf.compat.v1.assign_add instead.\n",
            "\n"
          ],
          "name": "stderr"
        },
        {
          "output_type": "stream",
          "text": [
            "Epoch 1/100\n",
            "8000/8000 [==============================] - 2s 206us/step - loss: 0.4810 - acc: 0.7960\n",
            "Epoch 2/100\n",
            "8000/8000 [==============================] - 1s 115us/step - loss: 0.4294 - acc: 0.7960\n",
            "Epoch 3/100\n",
            "8000/8000 [==============================] - 1s 112us/step - loss: 0.4238 - acc: 0.7972\n",
            "Epoch 4/100\n",
            "8000/8000 [==============================] - 1s 112us/step - loss: 0.4190 - acc: 0.8225\n",
            "Epoch 5/100\n",
            "8000/8000 [==============================] - 1s 113us/step - loss: 0.4156 - acc: 0.8261\n",
            "Epoch 6/100\n",
            "8000/8000 [==============================] - 1s 114us/step - loss: 0.4144 - acc: 0.8304\n",
            "Epoch 7/100\n",
            "8000/8000 [==============================] - 1s 112us/step - loss: 0.4128 - acc: 0.8322\n",
            "Epoch 8/100\n",
            "8000/8000 [==============================] - 1s 114us/step - loss: 0.4109 - acc: 0.8320\n",
            "Epoch 9/100\n",
            "8000/8000 [==============================] - 1s 113us/step - loss: 0.4095 - acc: 0.8322\n",
            "Epoch 10/100\n",
            "8000/8000 [==============================] - 1s 113us/step - loss: 0.4088 - acc: 0.8347\n",
            "Epoch 11/100\n",
            "8000/8000 [==============================] - 1s 112us/step - loss: 0.4076 - acc: 0.8339\n",
            "Epoch 12/100\n",
            "8000/8000 [==============================] - 1s 112us/step - loss: 0.4073 - acc: 0.8340\n",
            "Epoch 13/100\n",
            "8000/8000 [==============================] - 1s 116us/step - loss: 0.4064 - acc: 0.8350\n",
            "Epoch 14/100\n",
            "8000/8000 [==============================] - 1s 113us/step - loss: 0.4058 - acc: 0.8349\n",
            "Epoch 15/100\n",
            "8000/8000 [==============================] - 1s 112us/step - loss: 0.4055 - acc: 0.8340\n",
            "Epoch 16/100\n",
            "8000/8000 [==============================] - 1s 113us/step - loss: 0.4052 - acc: 0.8346\n",
            "Epoch 17/100\n",
            "8000/8000 [==============================] - 1s 112us/step - loss: 0.4045 - acc: 0.8354\n",
            "Epoch 18/100\n",
            "8000/8000 [==============================] - 1s 112us/step - loss: 0.4044 - acc: 0.8345\n",
            "Epoch 19/100\n",
            "8000/8000 [==============================] - 1s 112us/step - loss: 0.4044 - acc: 0.8345\n",
            "Epoch 20/100\n",
            "8000/8000 [==============================] - 1s 113us/step - loss: 0.4039 - acc: 0.8356\n",
            "Epoch 21/100\n",
            "8000/8000 [==============================] - 1s 112us/step - loss: 0.4035 - acc: 0.8355\n",
            "Epoch 22/100\n",
            "8000/8000 [==============================] - 1s 112us/step - loss: 0.4028 - acc: 0.8347\n",
            "Epoch 23/100\n",
            "8000/8000 [==============================] - 1s 114us/step - loss: 0.4033 - acc: 0.8345\n",
            "Epoch 24/100\n",
            "8000/8000 [==============================] - 1s 118us/step - loss: 0.4029 - acc: 0.8359\n",
            "Epoch 25/100\n",
            "8000/8000 [==============================] - 1s 112us/step - loss: 0.4027 - acc: 0.8341\n",
            "Epoch 26/100\n",
            "8000/8000 [==============================] - 1s 113us/step - loss: 0.4027 - acc: 0.8342\n",
            "Epoch 27/100\n",
            "8000/8000 [==============================] - 1s 114us/step - loss: 0.4027 - acc: 0.8352\n",
            "Epoch 28/100\n",
            "8000/8000 [==============================] - 1s 113us/step - loss: 0.4022 - acc: 0.8344\n",
            "Epoch 29/100\n",
            "8000/8000 [==============================] - 1s 114us/step - loss: 0.4023 - acc: 0.8341\n",
            "Epoch 30/100\n",
            "8000/8000 [==============================] - 1s 116us/step - loss: 0.4019 - acc: 0.8342\n",
            "Epoch 31/100\n",
            "8000/8000 [==============================] - 1s 113us/step - loss: 0.4015 - acc: 0.8361\n",
            "Epoch 32/100\n",
            "8000/8000 [==============================] - 1s 116us/step - loss: 0.4024 - acc: 0.8347\n",
            "Epoch 33/100\n",
            "8000/8000 [==============================] - 1s 115us/step - loss: 0.4018 - acc: 0.8336\n",
            "Epoch 34/100\n",
            "8000/8000 [==============================] - 1s 112us/step - loss: 0.4019 - acc: 0.8352\n",
            "Epoch 35/100\n",
            "8000/8000 [==============================] - 1s 117us/step - loss: 0.4012 - acc: 0.8352\n",
            "Epoch 36/100\n",
            "8000/8000 [==============================] - 1s 116us/step - loss: 0.4014 - acc: 0.8349\n",
            "Epoch 37/100\n",
            "8000/8000 [==============================] - 1s 113us/step - loss: 0.4015 - acc: 0.8349\n",
            "Epoch 38/100\n",
            "8000/8000 [==============================] - 1s 114us/step - loss: 0.4011 - acc: 0.8344\n",
            "Epoch 39/100\n",
            "8000/8000 [==============================] - 1s 114us/step - loss: 0.4014 - acc: 0.8350\n",
            "Epoch 40/100\n",
            "8000/8000 [==============================] - 1s 113us/step - loss: 0.4011 - acc: 0.8351\n",
            "Epoch 41/100\n",
            "8000/8000 [==============================] - 1s 114us/step - loss: 0.4011 - acc: 0.8360\n",
            "Epoch 42/100\n",
            "8000/8000 [==============================] - 1s 114us/step - loss: 0.4011 - acc: 0.8350\n",
            "Epoch 43/100\n",
            "8000/8000 [==============================] - 1s 113us/step - loss: 0.4008 - acc: 0.8351\n",
            "Epoch 44/100\n",
            "8000/8000 [==============================] - 1s 116us/step - loss: 0.4005 - acc: 0.8334\n",
            "Epoch 45/100\n",
            "8000/8000 [==============================] - 1s 114us/step - loss: 0.4012 - acc: 0.8367\n",
            "Epoch 46/100\n",
            "8000/8000 [==============================] - 1s 113us/step - loss: 0.4014 - acc: 0.8350\n",
            "Epoch 47/100\n",
            "8000/8000 [==============================] - 1s 112us/step - loss: 0.4009 - acc: 0.8376\n",
            "Epoch 48/100\n",
            "8000/8000 [==============================] - 1s 117us/step - loss: 0.4006 - acc: 0.8349\n",
            "Epoch 49/100\n",
            "8000/8000 [==============================] - 1s 116us/step - loss: 0.4006 - acc: 0.8347\n",
            "Epoch 50/100\n",
            "8000/8000 [==============================] - 1s 114us/step - loss: 0.4001 - acc: 0.8344\n",
            "Epoch 51/100\n",
            "8000/8000 [==============================] - 1s 112us/step - loss: 0.4007 - acc: 0.8356\n",
            "Epoch 52/100\n",
            "8000/8000 [==============================] - 1s 112us/step - loss: 0.4006 - acc: 0.8355\n",
            "Epoch 53/100\n",
            "8000/8000 [==============================] - 1s 112us/step - loss: 0.4004 - acc: 0.8365\n",
            "Epoch 54/100\n",
            "8000/8000 [==============================] - 1s 113us/step - loss: 0.4009 - acc: 0.8362\n",
            "Epoch 55/100\n",
            "8000/8000 [==============================] - 1s 113us/step - loss: 0.4004 - acc: 0.8350\n",
            "Epoch 56/100\n",
            "8000/8000 [==============================] - 1s 112us/step - loss: 0.4005 - acc: 0.8352\n",
            "Epoch 57/100\n",
            "8000/8000 [==============================] - 1s 112us/step - loss: 0.4005 - acc: 0.8370\n",
            "Epoch 58/100\n",
            "8000/8000 [==============================] - 1s 111us/step - loss: 0.4004 - acc: 0.8345\n",
            "Epoch 59/100\n",
            "8000/8000 [==============================] - 1s 116us/step - loss: 0.4005 - acc: 0.8364\n",
            "Epoch 60/100\n",
            "8000/8000 [==============================] - 1s 116us/step - loss: 0.3999 - acc: 0.8355\n",
            "Epoch 61/100\n",
            "8000/8000 [==============================] - 1s 112us/step - loss: 0.4007 - acc: 0.8347\n",
            "Epoch 62/100\n",
            "8000/8000 [==============================] - 1s 114us/step - loss: 0.4006 - acc: 0.8375\n",
            "Epoch 63/100\n",
            "8000/8000 [==============================] - 1s 112us/step - loss: 0.4004 - acc: 0.8364\n",
            "Epoch 64/100\n",
            "8000/8000 [==============================] - 1s 113us/step - loss: 0.3999 - acc: 0.8362\n",
            "Epoch 65/100\n",
            "8000/8000 [==============================] - 1s 111us/step - loss: 0.4001 - acc: 0.8339\n",
            "Epoch 66/100\n",
            "8000/8000 [==============================] - 1s 114us/step - loss: 0.4002 - acc: 0.8360\n",
            "Epoch 67/100\n",
            "8000/8000 [==============================] - 1s 111us/step - loss: 0.3998 - acc: 0.8355\n",
            "Epoch 68/100\n",
            "8000/8000 [==============================] - 1s 112us/step - loss: 0.4001 - acc: 0.8365\n",
            "Epoch 69/100\n",
            "8000/8000 [==============================] - 1s 111us/step - loss: 0.4000 - acc: 0.8344\n",
            "Epoch 70/100\n",
            "8000/8000 [==============================] - 1s 112us/step - loss: 0.4002 - acc: 0.8345\n",
            "Epoch 71/100\n",
            "8000/8000 [==============================] - 1s 123us/step - loss: 0.4004 - acc: 0.8346\n",
            "Epoch 72/100\n",
            "8000/8000 [==============================] - 1s 123us/step - loss: 0.4002 - acc: 0.8352\n",
            "Epoch 73/100\n",
            "8000/8000 [==============================] - 1s 124us/step - loss: 0.3999 - acc: 0.8345\n",
            "Epoch 74/100\n",
            "8000/8000 [==============================] - 1s 123us/step - loss: 0.4003 - acc: 0.8357\n",
            "Epoch 75/100\n",
            "8000/8000 [==============================] - 1s 124us/step - loss: 0.3999 - acc: 0.8360\n",
            "Epoch 76/100\n",
            "8000/8000 [==============================] - 1s 119us/step - loss: 0.4001 - acc: 0.8352\n",
            "Epoch 77/100\n",
            "8000/8000 [==============================] - 1s 113us/step - loss: 0.3999 - acc: 0.8361\n",
            "Epoch 78/100\n",
            "8000/8000 [==============================] - 1s 114us/step - loss: 0.3995 - acc: 0.8349\n",
            "Epoch 79/100\n",
            "8000/8000 [==============================] - 1s 112us/step - loss: 0.4003 - acc: 0.8365\n",
            "Epoch 80/100\n",
            "8000/8000 [==============================] - 1s 113us/step - loss: 0.3997 - acc: 0.8352\n",
            "Epoch 81/100\n",
            "8000/8000 [==============================] - 1s 116us/step - loss: 0.4000 - acc: 0.8362\n",
            "Epoch 82/100\n",
            "8000/8000 [==============================] - 1s 117us/step - loss: 0.3998 - acc: 0.8362\n",
            "Epoch 83/100\n",
            "8000/8000 [==============================] - 1s 112us/step - loss: 0.3994 - acc: 0.8352\n",
            "Epoch 84/100\n",
            "8000/8000 [==============================] - 1s 112us/step - loss: 0.4002 - acc: 0.8361\n",
            "Epoch 85/100\n",
            "8000/8000 [==============================] - 1s 114us/step - loss: 0.3999 - acc: 0.8346\n",
            "Epoch 86/100\n",
            "8000/8000 [==============================] - 1s 114us/step - loss: 0.3998 - acc: 0.8362\n",
            "Epoch 87/100\n",
            "8000/8000 [==============================] - 1s 112us/step - loss: 0.3998 - acc: 0.8352\n",
            "Epoch 88/100\n",
            "8000/8000 [==============================] - 1s 113us/step - loss: 0.3998 - acc: 0.8347\n",
            "Epoch 89/100\n",
            "8000/8000 [==============================] - 1s 114us/step - loss: 0.3998 - acc: 0.8364\n",
            "Epoch 90/100\n",
            "8000/8000 [==============================] - 1s 113us/step - loss: 0.3998 - acc: 0.8360\n",
            "Epoch 91/100\n",
            "8000/8000 [==============================] - 1s 114us/step - loss: 0.3993 - acc: 0.8370\n",
            "Epoch 92/100\n",
            "8000/8000 [==============================] - 1s 118us/step - loss: 0.3998 - acc: 0.8354\n",
            "Epoch 93/100\n",
            "8000/8000 [==============================] - 1s 116us/step - loss: 0.3989 - acc: 0.8354\n",
            "Epoch 94/100\n",
            "8000/8000 [==============================] - 1s 117us/step - loss: 0.3999 - acc: 0.8349\n",
            "Epoch 95/100\n",
            "8000/8000 [==============================] - 1s 114us/step - loss: 0.3993 - acc: 0.8357\n",
            "Epoch 96/100\n",
            "8000/8000 [==============================] - 1s 113us/step - loss: 0.3997 - acc: 0.8344\n",
            "Epoch 97/100\n",
            "8000/8000 [==============================] - 1s 115us/step - loss: 0.3994 - acc: 0.8366\n",
            "Epoch 98/100\n",
            "8000/8000 [==============================] - 1s 113us/step - loss: 0.3992 - acc: 0.8356\n",
            "Epoch 99/100\n",
            "8000/8000 [==============================] - 1s 113us/step - loss: 0.3999 - acc: 0.8349\n",
            "Epoch 100/100\n",
            "8000/8000 [==============================] - 1s 112us/step - loss: 0.3994 - acc: 0.8360\n"
          ],
          "name": "stdout"
        },
        {
          "output_type": "execute_result",
          "data": {
            "text/plain": [
              "<keras.callbacks.History at 0x7f7bbf3c4e48>"
            ]
          },
          "metadata": {
            "tags": []
          },
          "execution_count": 9
        }
      ]
    },
    {
      "cell_type": "code",
      "metadata": {
        "id": "nJhzY7BaFY1I",
        "colab_type": "code",
        "colab": {}
      },
      "source": [
        "# Part 3 - Making the predictions and evaluating the model\n",
        "\n",
        "# Predicting the Test set results\n",
        "y_pred = classifier.predict(X_test)\n",
        "y_pred = (y_pred > 0.5)\n",
        "# To convert the percetage value of o/p to booolean"
      ],
      "execution_count": 0,
      "outputs": []
    },
    {
      "cell_type": "code",
      "metadata": {
        "id": "dpKFUrQqGgok",
        "colab_type": "code",
        "colab": {}
      },
      "source": [
        "# Making the Confusion Matrix\n",
        "from sklearn.metrics import confusion_matrix\n",
        "cm = confusion_matrix(y_test, y_pred)"
      ],
      "execution_count": 0,
      "outputs": []
    },
    {
      "cell_type": "code",
      "metadata": {
        "id": "TYQD35VpGxOG",
        "colab_type": "code",
        "colab": {
          "base_uri": "https://localhost:8080/",
          "height": 50
        },
        "outputId": "67e7c024-134e-4d4d-f618-eeba30a69ece"
      },
      "source": [
        "cm"
      ],
      "execution_count": 13,
      "outputs": [
        {
          "output_type": "execute_result",
          "data": {
            "text/plain": [
              "array([[1541,   54],\n",
              "       [ 261,  144]])"
            ]
          },
          "metadata": {
            "tags": []
          },
          "execution_count": 13
        }
      ]
    }
  ]
}