{
  "nbformat": 4,
  "nbformat_minor": 0,
  "metadata": {
    "colab": {
      "name": "Apriori_ml_28.ipynb",
      "version": "0.3.2",
      "provenance": [],
      "collapsed_sections": [],
      "include_colab_link": true
    },
    "kernelspec": {
      "name": "python3",
      "display_name": "Python 3"
    }
  },
  "cells": [
    {
      "cell_type": "markdown",
      "metadata": {
        "id": "view-in-github",
        "colab_type": "text"
      },
      "source": [
        "<a href=\"https://colab.research.google.com/github/VigneshwaraChinnadurai/ML-Learning/blob/master/Session_28_Apriori/Apriori_ml_28.ipynb\" target=\"_parent\"><img src=\"https://colab.research.google.com/assets/colab-badge.svg\" alt=\"Open In Colab\"/></a>"
      ]
    },
    {
      "cell_type": "code",
      "metadata": {
        "id": "t-8SaF62X5WM",
        "colab_type": "code",
        "colab": {
          "base_uri": "https://localhost:8080/",
          "height": 151
        },
        "outputId": "9b005afa-96c5-44a9-a669-d5807010c06e"
      },
      "source": [
        "#STEP-1: Install Import Libraries\n",
        "!pip install -U -q PyDrive\n",
        "from pydrive.auth import GoogleAuth\n",
        "from pydrive.drive import GoogleDrive\n",
        "from google.colab import auth\n",
        "from oauth2client.client import GoogleCredentials\n",
        "\n",
        "#STEP-2: Autheticate E-Mail ID\n",
        "\n",
        "auth.authenticate_user()\n",
        "gauth = GoogleAuth()\n",
        "gauth.credentials = GoogleCredentials.get_application_default()\n",
        "drive = GoogleDrive(gauth)\n",
        "\n",
        "#STEP-3: Get File from Drive using file-ID\n",
        "\n",
        "#2.1 Get the file\n",
        "downloaded = drive.CreateFile({'id':'1NwkRaNghL2qPd89DhxpQIvlgBRkMRHjN'})\n",
        "# replace the id with id of file you want to access\n",
        "downloaded.GetContentFile('Market_Basket_Optimisation.csv') \n",
        "\n",
        "#STEP-4: Read File\n",
        "\n",
        "#3.1 Read file as panda dataframe\n",
        "import pandas as pd\n",
        "data = pd.read_csv('Market_Basket_Optimisation.csv') \n",
        "print(data.head())"
      ],
      "execution_count": 1,
      "outputs": [
        {
          "output_type": "stream",
          "text": [
            "           shrimp    almonds     avocado  ... frozen smoothie spinach olive oil\n",
            "0         burgers  meatballs        eggs  ...             NaN     NaN       NaN\n",
            "1         chutney        NaN         NaN  ...             NaN     NaN       NaN\n",
            "2          turkey    avocado         NaN  ...             NaN     NaN       NaN\n",
            "3   mineral water       milk  energy bar  ...             NaN     NaN       NaN\n",
            "4  low fat yogurt        NaN         NaN  ...             NaN     NaN       NaN\n",
            "\n",
            "[5 rows x 20 columns]\n"
          ],
          "name": "stdout"
        }
      ]
    },
    {
      "cell_type": "code",
      "metadata": {
        "id": "pjf-An1qYL62",
        "colab_type": "code",
        "colab": {}
      },
      "source": [
        "import numpy as np\n",
        "import pandas as pd\n",
        "import matplotlib.pyplot as plt\n",
        "\n",
        "data=pd.read_csv('Market_Basket_Optimisation.csv',header=None)"
      ],
      "execution_count": 0,
      "outputs": []
    },
    {
      "cell_type": "code",
      "metadata": {
        "id": "y53z-khLYQTN",
        "colab_type": "code",
        "colab": {}
      },
      "source": [
        "# Creating this list as Apriori model expects the data to be in list and in quotes('').\n",
        "\n",
        "transactions=[]\n",
        "for i in range(0,7501):\n",
        "    transactions.append([str(data.values[i,j])for j in range (0,20 )])"
      ],
      "execution_count": 0,
      "outputs": []
    },
    {
      "cell_type": "code",
      "metadata": {
        "id": "87PEgaIrYSsM",
        "colab_type": "code",
        "colab": {}
      },
      "source": [
        "#STEP-1: Install Import Libraries\n",
        "!pip install -U -q PyDrive\n",
        "from pydrive.auth import GoogleAuth\n",
        "from pydrive.drive import GoogleDrive\n",
        "from google.colab import auth\n",
        "from oauth2client.client import GoogleCredentials\n",
        "\n",
        "#STEP-2: Autheticate E-Mail ID\n",
        "\n",
        "auth.authenticate_user()\n",
        "gauth = GoogleAuth()\n",
        "gauth.credentials = GoogleCredentials.get_application_default()\n",
        "drive = GoogleDrive(gauth)\n",
        "\n",
        "#STEP-3: Get File from Drive using file-ID\n",
        "\n",
        "#2.1 Get the file\n",
        "downloaded = drive.CreateFile({'id':'1umFEGx-LapetVTQraxPQ03UsXBhMsBZo'})\n",
        "# replace the id with id of file you want to access\n",
        "downloaded.GetContentFile('apyori.py') \n",
        "\n",
        "\n",
        "# Training the Apriori model.\n",
        "# Here we import apyori library which is kept in current working directory as apyori.py\n",
        "\n",
        "from apyori import apriori\n",
        "rules=apriori(transactions,min_support=0.003,min_confidence=0.2,min_lift=3,min_length=2)\n",
        "# Min_Length is the min no of products to be in a combination.\n",
        "# Min_Support is the min no of times the product is selected in the day by overall customers. (3*7/7500).\n",
        "# this is three times the product is purchased by the customers in a day to the total no of transaction.\n",
        "# Min_Confidence is set to 20%. If it increases, the data is irrelevant."
      ],
      "execution_count": 0,
      "outputs": []
    },
    {
      "cell_type": "code",
      "metadata": {
        "id": "pohew8jhY3Ko",
        "colab_type": "code",
        "colab": {}
      },
      "source": [
        "# Visualizing the Rules.\n",
        "\n",
        "results = list(rules)\n",
        "output = []\n",
        "for row in results:\n",
        "    output.append(str(row.items))\n",
        "# See the possible combinations in output which is listed as ranked\n",
        "# To see support in dataset, first double click values, it will list the support of this seq in dataset in 2nd row.\n",
        "# Then to see confidence and lift, values(0),values(2),values(0). Value(2) is confidence and value(3) is confidence"
      ],
      "execution_count": 0,
      "outputs": []
    },
    {
      "cell_type": "code",
      "metadata": {
        "id": "7za4irVNY705",
        "colab_type": "code",
        "colab": {
          "base_uri": "https://localhost:8080/",
          "height": 54
        },
        "outputId": "08d1a31b-4448-403f-82dc-6b7075e82b54"
      },
      "source": [
        "print (list(output))"
      ],
      "execution_count": 6,
      "outputs": [
        {
          "output_type": "stream",
          "text": [
            "[\"frozenset({'light cream', 'chicken'})\", \"frozenset({'mushroom cream sauce', 'escalope'})\", \"frozenset({'pasta', 'escalope'})\", \"frozenset({'honey', 'fromage blanc'})\", \"frozenset({'herb & pepper', 'ground beef'})\", \"frozenset({'tomato sauce', 'ground beef'})\", \"frozenset({'light cream', 'olive oil'})\", \"frozenset({'whole wheat pasta', 'olive oil'})\", \"frozenset({'pasta', 'shrimp'})\", \"frozenset({'spaghetti', 'milk', 'avocado'})\", \"frozenset({'cake', 'milk', 'burgers'})\", \"frozenset({'turkey', 'burgers', 'chocolate'})\", \"frozenset({'turkey', 'milk', 'burgers'})\", \"frozenset({'cake', 'tomatoes', 'frozen vegetables'})\", \"frozenset({'cereals', 'spaghetti', 'ground beef'})\", \"frozenset({'ground beef', 'milk', 'chicken'})\", \"frozenset({'light cream', 'nan', 'chicken'})\", \"frozenset({'olive oil', 'milk', 'chicken'})\", \"frozenset({'olive oil', 'spaghetti', 'chicken'})\", \"frozenset({'shrimp', 'frozen vegetables', 'chocolate'})\", \"frozenset({'ground beef', 'herb & pepper', 'chocolate'})\", \"frozenset({'soup', 'milk', 'chocolate'})\", \"frozenset({'cooking oil', 'spaghetti', 'ground beef'})\", \"frozenset({'herb & pepper', 'eggs', 'ground beef'})\", \"frozenset({'spaghetti', 'eggs', 'red wine'})\", \"frozenset({'mushroom cream sauce', 'nan', 'escalope'})\", \"frozenset({'nan', 'pasta', 'escalope'})\", \"frozenset({'french fries', 'herb & pepper', 'ground beef'})\", \"frozenset({'honey', 'fromage blanc', 'nan'})\", \"frozenset({'tomatoes', 'green tea', 'frozen vegetables'})\", \"frozenset({'ground beef', 'spaghetti', 'frozen vegetables'})\", \"frozenset({'olive oil', 'milk', 'frozen vegetables'})\", \"frozenset({'soup', 'milk', 'frozen vegetables'})\", \"frozenset({'tomatoes', 'milk', 'frozen vegetables'})\", \"frozenset({'mineral water', 'shrimp', 'frozen vegetables'})\", \"frozenset({'olive oil', 'spaghetti', 'frozen vegetables'})\", \"frozenset({'shrimp', 'spaghetti', 'frozen vegetables'})\", \"frozenset({'tomatoes', 'shrimp', 'frozen vegetables'})\", \"frozenset({'tomatoes', 'spaghetti', 'frozen vegetables'})\", \"frozenset({'grated cheese', 'spaghetti', 'ground beef'})\", \"frozenset({'tomatoes', 'green tea', 'ground beef'})\", \"frozenset({'herb & pepper', 'milk', 'ground beef'})\", \"frozenset({'mineral water', 'herb & pepper', 'ground beef'})\", \"frozenset({'nan', 'herb & pepper', 'ground beef'})\", \"frozenset({'herb & pepper', 'spaghetti', 'ground beef'})\", \"frozenset({'olive oil', 'milk', 'ground beef'})\", \"frozenset({'soup', 'milk', 'ground beef'})\", \"frozenset({'tomato sauce', 'nan', 'ground beef'})\", \"frozenset({'spaghetti', 'pepper', 'ground beef'})\", \"frozenset({'shrimp', 'spaghetti', 'ground beef'})\", \"frozenset({'tomato sauce', 'spaghetti', 'ground beef'})\", \"frozenset({'light cream', 'nan', 'olive oil'})\", \"frozenset({'shrimp', 'milk', 'olive oil'})\", \"frozenset({'soup', 'milk', 'olive oil'})\", \"frozenset({'milk', 'spaghetti', 'olive oil'})\", \"frozenset({'soup', 'tomatoes', 'milk'})\", \"frozenset({'whole wheat pasta', 'milk', 'spaghetti'})\", \"frozenset({'soup', 'mineral water', 'olive oil'})\", \"frozenset({'whole wheat pasta', 'mineral water', 'olive oil'})\", \"frozenset({'whole wheat pasta', 'nan', 'olive oil'})\", \"frozenset({'nan', 'shrimp', 'pasta'})\", \"frozenset({'pancakes', 'spaghetti', 'olive oil'})\", \"frozenset({'tomatoes', 'spaghetti', 'olive oil'})\", \"frozenset({'whole wheat rice', 'tomatoes', 'spaghetti'})\", \"frozenset({'spaghetti', 'nan', 'milk', 'avocado'})\", \"frozenset({'cake', 'nan', 'milk', 'burgers'})\", \"frozenset({'turkey', 'nan', 'burgers', 'chocolate'})\", \"frozenset({'turkey', 'nan', 'milk', 'burgers'})\", \"frozenset({'cake', 'nan', 'tomatoes', 'frozen vegetables'})\", \"frozenset({'spaghetti', 'cereals', 'nan', 'ground beef'})\", \"frozenset({'nan', 'ground beef', 'milk', 'chicken'})\", \"frozenset({'olive oil', 'nan', 'milk', 'chicken'})\", \"frozenset({'olive oil', 'nan', 'spaghetti', 'chicken'})\", \"frozenset({'ground beef', 'mineral water', 'eggs', 'chocolate'})\", \"frozenset({'ground beef', 'mineral water', 'frozen vegetables', 'chocolate'})\", \"frozenset({'spaghetti', 'ground beef', 'frozen vegetables', 'chocolate'})\", \"frozenset({'mineral water', 'milk', 'frozen vegetables', 'chocolate'})\", \"frozenset({'spaghetti', 'milk', 'frozen vegetables', 'chocolate'})\", \"frozenset({'mineral water', 'shrimp', 'frozen vegetables', 'chocolate'})\", \"frozenset({'nan', 'shrimp', 'frozen vegetables', 'chocolate'})\", \"frozenset({'nan', 'ground beef', 'herb & pepper', 'chocolate'})\", \"frozenset({'soup', 'nan', 'milk', 'chocolate'})\", \"frozenset({'olive oil', 'mineral water', 'spaghetti', 'chocolate'})\", \"frozenset({'spaghetti', 'mineral water', 'shrimp', 'chocolate'})\", \"frozenset({'spaghetti', 'cooking oil', 'nan', 'ground beef'})\", \"frozenset({'milk', 'mineral water', 'eggs', 'frozen vegetables'})\", \"frozenset({'nan', 'herb & pepper', 'eggs', 'ground beef'})\", \"frozenset({'spaghetti', 'nan', 'eggs', 'red wine'})\", \"frozenset({'french fries', 'nan', 'herb & pepper', 'ground beef'})\", \"frozenset({'frozen smoothie', 'mineral water', 'milk', 'spaghetti'})\", \"frozenset({'nan', 'tomatoes', 'green tea', 'frozen vegetables'})\", \"frozenset({'ground beef', 'mineral water', 'milk', 'frozen vegetables'})\", \"frozenset({'ground beef', 'milk', 'spaghetti', 'frozen vegetables'})\", \"frozenset({'ground beef', 'mineral water', 'spaghetti', 'frozen vegetables'})\", \"frozenset({'nan', 'ground beef', 'spaghetti', 'frozen vegetables'})\", \"frozenset({'olive oil', 'mineral water', 'milk', 'frozen vegetables'})\", \"frozenset({'soup', 'mineral water', 'milk', 'frozen vegetables'})\", \"frozenset({'mineral water', 'milk', 'spaghetti', 'frozen vegetables'})\", \"frozenset({'olive oil', 'nan', 'milk', 'frozen vegetables'})\", \"frozenset({'soup', 'nan', 'milk', 'frozen vegetables'})\", \"frozenset({'nan', 'tomatoes', 'milk', 'frozen vegetables'})\", \"frozenset({'nan', 'mineral water', 'shrimp', 'frozen vegetables'})\", \"frozenset({'spaghetti', 'mineral water', 'shrimp', 'frozen vegetables'})\", \"frozenset({'tomatoes', 'mineral water', 'spaghetti', 'frozen vegetables'})\", \"frozenset({'olive oil', 'nan', 'spaghetti', 'frozen vegetables'})\", \"frozenset({'nan', 'shrimp', 'spaghetti', 'frozen vegetables'})\", \"frozenset({'nan', 'tomatoes', 'shrimp', 'frozen vegetables'})\", \"frozenset({'nan', 'tomatoes', 'spaghetti', 'frozen vegetables'})\", \"frozenset({'nan', 'grated cheese', 'spaghetti', 'ground beef'})\", \"frozenset({'nan', 'tomatoes', 'green tea', 'ground beef'})\", \"frozenset({'nan', 'herb & pepper', 'milk', 'ground beef'})\", \"frozenset({'mineral water', 'nan', 'herb & pepper', 'ground beef'})\", \"frozenset({'nan', 'herb & pepper', 'spaghetti', 'ground beef'})\", \"frozenset({'olive oil', 'nan', 'milk', 'ground beef'})\", \"frozenset({'soup', 'nan', 'milk', 'ground beef'})\", \"frozenset({'olive oil', 'mineral water', 'spaghetti', 'ground beef'})\", \"frozenset({'tomatoes', 'mineral water', 'spaghetti', 'ground beef'})\", \"frozenset({'spaghetti', 'nan', 'pepper', 'ground beef'})\", \"frozenset({'nan', 'shrimp', 'spaghetti', 'ground beef'})\", \"frozenset({'tomato sauce', 'nan', 'spaghetti', 'ground beef'})\", \"frozenset({'mineral water', 'milk', 'spaghetti', 'olive oil'})\", \"frozenset({'tomatoes', 'mineral water', 'milk', 'spaghetti'})\", \"frozenset({'nan', 'shrimp', 'milk', 'olive oil'})\", \"frozenset({'soup', 'nan', 'milk', 'olive oil'})\", \"frozenset({'nan', 'milk', 'spaghetti', 'olive oil'})\", \"frozenset({'soup', 'nan', 'tomatoes', 'milk'})\", \"frozenset({'nan', 'milk', 'spaghetti', 'whole wheat pasta'})\", \"frozenset({'soup', 'nan', 'mineral water', 'olive oil'})\", \"frozenset({'whole wheat pasta', 'nan', 'mineral water', 'olive oil'})\", \"frozenset({'nan', 'pancakes', 'spaghetti', 'olive oil'})\", \"frozenset({'nan', 'tomatoes', 'spaghetti', 'olive oil'})\", \"frozenset({'whole wheat rice', 'nan', 'tomatoes', 'spaghetti'})\", \"frozenset({'chocolate', 'nan', 'mineral water', 'ground beef', 'eggs'})\", \"frozenset({'frozen vegetables', 'chocolate', 'nan', 'mineral water', 'ground beef'})\", \"frozenset({'spaghetti', 'frozen vegetables', 'chocolate', 'nan', 'ground beef'})\", \"frozenset({'frozen vegetables', 'chocolate', 'nan', 'mineral water', 'milk'})\", \"frozenset({'spaghetti', 'frozen vegetables', 'chocolate', 'nan', 'milk'})\", \"frozenset({'shrimp', 'frozen vegetables', 'chocolate', 'nan', 'mineral water'})\", \"frozenset({'spaghetti', 'chocolate', 'nan', 'mineral water', 'olive oil'})\", \"frozenset({'shrimp', 'spaghetti', 'chocolate', 'nan', 'mineral water'})\", \"frozenset({'frozen vegetables', 'nan', 'mineral water', 'milk', 'eggs'})\", \"frozenset({'frozen smoothie', 'spaghetti', 'nan', 'mineral water', 'milk'})\", \"frozenset({'frozen vegetables', 'nan', 'mineral water', 'ground beef', 'milk'})\", \"frozenset({'spaghetti', 'frozen vegetables', 'nan', 'ground beef', 'milk'})\", \"frozenset({'spaghetti', 'frozen vegetables', 'nan', 'mineral water', 'ground beef'})\", \"frozenset({'frozen vegetables', 'nan', 'mineral water', 'olive oil', 'milk'})\", \"frozenset({'frozen vegetables', 'nan', 'mineral water', 'soup', 'milk'})\", \"frozenset({'spaghetti', 'frozen vegetables', 'nan', 'mineral water', 'milk'})\", \"frozenset({'shrimp', 'spaghetti', 'frozen vegetables', 'nan', 'mineral water'})\", \"frozenset({'tomatoes', 'spaghetti', 'frozen vegetables', 'nan', 'mineral water'})\", \"frozenset({'spaghetti', 'nan', 'mineral water', 'olive oil', 'ground beef'})\", \"frozenset({'tomatoes', 'spaghetti', 'nan', 'mineral water', 'ground beef'})\", \"frozenset({'spaghetti', 'nan', 'mineral water', 'olive oil', 'milk'})\", \"frozenset({'tomatoes', 'spaghetti', 'nan', 'mineral water', 'milk'})\"]\n"
          ],
          "name": "stdout"
        }
      ]
    }
  ]
}