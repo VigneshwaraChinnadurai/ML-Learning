{
  "nbformat": 4,
  "nbformat_minor": 0,
  "metadata": {
    "colab": {
      "name": "Random_Forest_Regression_ml_9.ipynb",
      "version": "0.3.2",
      "provenance": [],
      "collapsed_sections": [],
      "include_colab_link": true
    },
    "kernelspec": {
      "name": "python3",
      "display_name": "Python 3"
    }
  },
  "cells": [
    {
      "cell_type": "markdown",
      "metadata": {
        "id": "view-in-github",
        "colab_type": "text"
      },
      "source": [
        "<a href=\"https://colab.research.google.com/github/VigneshwaraChinnadurai/ML-Learning/blob/master/Session_9_Random_Forest_Regression/Random_Forest_Regression_ml_9.ipynb\" target=\"_parent\"><img src=\"https://colab.research.google.com/assets/colab-badge.svg\" alt=\"Open In Colab\"/></a>"
      ]
    },
    {
      "cell_type": "code",
      "metadata": {
        "id": "mKvdvqJ8J3S1",
        "colab_type": "code",
        "colab": {
          "base_uri": "https://localhost:8080/",
          "height": 118
        },
        "outputId": "8b11e4b5-1513-453e-d04b-cc9d8c578240"
      },
      "source": [
        "#STEP-1: Install Import Libraries\n",
        "!pip install -U -q PyDrive\n",
        "from pydrive.auth import GoogleAuth\n",
        "from pydrive.drive import GoogleDrive\n",
        "from google.colab import auth\n",
        "from oauth2client.client import GoogleCredentials\n",
        "\n",
        "#STEP-2: Autheticate E-Mail ID\n",
        "\n",
        "auth.authenticate_user()\n",
        "gauth = GoogleAuth()\n",
        "gauth.credentials = GoogleCredentials.get_application_default()\n",
        "drive = GoogleDrive(gauth)\n",
        "\n",
        "#STEP-3: Get File from Drive using file-ID\n",
        "\n",
        "#2.1 Get the file\n",
        "downloaded = drive.CreateFile({'id':'1T6JMGO3UmASqA_V17GAX1406ycM6oI_B'})\n",
        "# replace the id with id of file you want to access\n",
        "downloaded.GetContentFile('Position_Salaries_SVR.csv') \n",
        "\n",
        "#STEP-4: Read File\n",
        "\n",
        "#3.1 Read file as panda dataframe\n",
        "import pandas as pd\n",
        "data = pd.read_csv('Position_Salaries_SVR.csv') \n",
        "print(data.head())"
      ],
      "execution_count": 1,
      "outputs": [
        {
          "output_type": "stream",
          "text": [
            "            Position  Level  Salary\n",
            "0   Business Analyst      1   45000\n",
            "1  Junior Consultant      2   50000\n",
            "2  Senior Consultant      3   60000\n",
            "3            Manager      4   80000\n",
            "4    Country Manager      5  110000\n"
          ],
          "name": "stdout"
        }
      ]
    },
    {
      "cell_type": "code",
      "metadata": {
        "id": "IEPcyFx_J5Se",
        "colab_type": "code",
        "colab": {}
      },
      "source": [
        "import numpy as np\n",
        "import pandas as pd\n",
        "import matplotlib.pyplot as plt"
      ],
      "execution_count": 0,
      "outputs": []
    },
    {
      "cell_type": "code",
      "metadata": {
        "id": "4nJ7RcJqKJGI",
        "colab_type": "code",
        "colab": {}
      },
      "source": [
        "x=data.iloc[:,1:2].values\n",
        "y=data.iloc[:,2].values"
      ],
      "execution_count": 0,
      "outputs": []
    },
    {
      "cell_type": "code",
      "metadata": {
        "id": "JGmtIcJ0KLR8",
        "colab_type": "code",
        "colab": {
          "base_uri": "https://localhost:8080/",
          "height": 134
        },
        "outputId": "4d3fc3cc-0b4c-4fe3-d13e-2ff94d333560"
      },
      "source": [
        "from sklearn.ensemble import RandomForestRegressor\n",
        "regressor=RandomForestRegressor(n_estimators=300,random_state=0) \n",
        "#increase the n_estimator from 10 (default) to 100,300 to increase trees\n",
        "regressor.fit(x,y)"
      ],
      "execution_count": 4,
      "outputs": [
        {
          "output_type": "execute_result",
          "data": {
            "text/plain": [
              "RandomForestRegressor(bootstrap=True, criterion='mse', max_depth=None,\n",
              "                      max_features='auto', max_leaf_nodes=None,\n",
              "                      min_impurity_decrease=0.0, min_impurity_split=None,\n",
              "                      min_samples_leaf=1, min_samples_split=2,\n",
              "                      min_weight_fraction_leaf=0.0, n_estimators=300,\n",
              "                      n_jobs=None, oob_score=False, random_state=0, verbose=0,\n",
              "                      warm_start=False)"
            ]
          },
          "metadata": {
            "tags": []
          },
          "execution_count": 4
        }
      ]
    },
    {
      "cell_type": "code",
      "metadata": {
        "id": "aE9gDQd_KND6",
        "colab_type": "code",
        "colab": {}
      },
      "source": [
        "y_pred=regressor.predict([[6.5]])"
      ],
      "execution_count": 0,
      "outputs": []
    },
    {
      "cell_type": "code",
      "metadata": {
        "id": "iTf4bTicKP4w",
        "colab_type": "code",
        "colab": {
          "base_uri": "https://localhost:8080/",
          "height": 295
        },
        "outputId": "5a213af7-257c-4c63-ebb1-06a196ea229d"
      },
      "source": [
        "# Increasing the resolution by griding with 0.01\n",
        "x_grid=np.arange(min(x),max(x),0.01)\n",
        "x_grid=x_grid.reshape((len(x_grid),1))\n",
        "plt.scatter(x,y,c='red')\n",
        "plt.plot(x_grid,regressor.predict(x_grid),c='blue')\n",
        "plt.title('Truth or Bluff (Random Forest Regression)')\n",
        "plt.xlabel('Positional Level')\n",
        "plt.ylabel('Salary')\n",
        "plt.show()"
      ],
      "execution_count": 6,
      "outputs": [
        {
          "output_type": "display_data",
          "data": {
            "image/png": "[encoded data removed]",
            "text/plain": [
              "<Figure size 432x288 with 1 Axes>"
            ]
          },
          "metadata": {
            "tags": []
          }
        }
      ]
    },
    {
      "cell_type": "code",
      "metadata": {
        "id": "Fr9SC-8DKUtx",
        "colab_type": "code",
        "colab": {}
      },
      "source": [
        ""
      ],
      "execution_count": 0,
      "outputs": []
    }
  ]
}